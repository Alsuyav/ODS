{
 "cells": [
  {
   "cell_type": "markdown",
   "metadata": {},
   "source": [
    "# imports"
   ]
  },
  {
   "cell_type": "code",
   "execution_count": 1,
   "metadata": {},
   "outputs": [],
   "source": [
    "import pathlib\n",
    "import re\n",
    "import os\n",
    "import pandas as pd\n",
    "import numpy as np\n",
    "from sklearn.model_selection import train_test_split, cross_val_score\n",
    "from sklearn.metrics import accuracy_score\n",
    "from transformers import BertTokenizer, BertForSequenceClassification\n",
    "from transformers import Trainer, TrainingArguments\n",
    "from sklearn.preprocessing import MultiLabelBinarizer\n",
    "from torch.utils.data import Dataset, DataLoader\n",
    "from transformers import T5ForConditionalGeneration, T5Tokenizer\n",
    "import torch\n",
    "import torch.nn as nn\n",
    "import nltk\n",
    "from nltk.corpus import stopwords\n",
    "from torch.utils.data import Dataset, DataLoader\n",
    "from transformers import BertTokenizer, BertForSequenceClassification, AdamW\n",
    "from sklearn.model_selection import train_test_split\n",
    "import pymorphy3\n",
    "import time\n",
    "from sklearn.utils import shuffle \n",
    "from transformers import AutoTokenizer, AutoModelForSequenceClassification\n",
    "import re\n",
    "import torch\n",
    "import torch.nn as nn\n",
    "from torch.utils.data import DataLoader\n",
    "from transformers import BertTokenizer, BertForSequenceClassification\n",
    "from sklearn.metrics import accuracy_score\n",
    "from torch.utils.tensorboard import SummaryWriter\n",
    "import matplotlib.pyplot as plt\n",
    "\n",
    "import warnings\n",
    "warnings.filterwarnings('ignore')\n",
    "\n",
    "import pandas as pd\n",
    "import random\n",
    "import nlpaug.augmenter.word as naw\n",
    "import nlpaug.augmenter.sentence as nas\n",
    "from transformers import pipeline\n",
    "from typing import Optional\n",
    "\n",
    "from torch.optim import AdamW\n",
    "from tqdm import tqdm\n",
    "import emoji\n",
    "\n",
    "from transformers import get_linear_schedule_with_warmup\n",
    "from peft import get_peft_model, LoraConfig, TaskType\n",
    "\n",
    "import pandas as pd\n",
    "import numpy as np\n",
    "import torch\n",
    "from sklearn.model_selection import train_test_split\n",
    "from sklearn.preprocessing import MultiLabelBinarizer\n",
    "from transformers import AlbertTokenizer, AlbertForSequenceClassification, AutoModelForSequenceClassification \n",
    "from transformers import AdamW, AutoModel\n",
    "from torch.utils.data import DataLoader, Dataset\n",
    "from tqdm import tqdm\n",
    "from transformers import AutoTokenizer, AutoModel\n",
    "\n",
    "from transformers import RobertaTokenizer, RobertaForSequenceClassification"
   ]
  },
  {
   "cell_type": "code",
   "execution_count": 2,
   "metadata": {},
   "outputs": [],
   "source": [
    "# tensorboard --logdir=runs --port=6007"
   ]
  },
  {
   "cell_type": "markdown",
   "metadata": {},
   "source": [
    "# variables"
   ]
  },
  {
   "cell_type": "code",
   "execution_count": 3,
   "metadata": {
    "tags": []
   },
   "outputs": [
    {
     "name": "stdout",
     "output_type": "stream",
     "text": [
      "cuda\n"
     ]
    },
    {
     "name": "stderr",
     "output_type": "stream",
     "text": [
      "[nltk_data] Downloading package stopwords to\n",
      "[nltk_data]     C:\\Users\\alsuy\\AppData\\Roaming\\nltk_data...\n",
      "[nltk_data]   Package stopwords is already up-to-date!\n"
     ]
    }
   ],
   "source": [
    "ROOT_DIR = pathlib.Path().absolute()\n",
    "DATA_DIR = os.path.join(ROOT_DIR, \"data\")\n",
    "RANDOM_SEED = 42\n",
    "\n",
    "DEVICE = torch.device('cuda' if torch.cuda.is_available() else 'cpu')\n",
    "print(DEVICE)\n",
    "\n",
    "THRESHOULD = 0.5\n",
    "\n",
    "nltk.download('stopwords')\n",
    "STOPS = set(stopwords.words('russian'))\n",
    "\n",
    "MORPH = pymorphy3.MorphAnalyzer()\n",
    "\n",
    "TARGET_COLS = [f'trend_id_res{i}' for i in range(50)]\n",
    "\n",
    "AUG_FILE_NAME = \"no_aug\" # \"no_aug\" or \"имя_файла_с_аугментацией\"\n",
    "\n",
    "TAG_ADDING = \"tag_add\" # \"tag_add\" or \"no_tag\"\n",
    "\n",
    "# для модели fine_tuned_model_1728380842_rubert_adamw_focal_loss_tag_add_no_aug_data_split_50_LR_2e-05__alpha_0_1\n",
    "# было \"data_split\"\n",
    "# для других \"no_split\"\n",
    "DATA_SPLIT = \"no_split\" # \"no_split\" or \"data_split\"\n",
    "\n",
    "\n",
    "\n",
    "# для моделей\n",
    "# fine_tuned_model_1728380842_rubert_adamw_focal_loss_tag_add_no_aug_data_split_50_LR_2e-05__alpha_0_1\n",
    "# fine_tuned_model_1728416226_rubert_adamw_focal_loss_tag_add_no_aug_no_split_17_LR_2e-05_sigmoida_alpha_0_25_gamma_3\n",
    "\n",
    "# tokenizer = BertTokenizer.from_pretrained('DeepPavlov/rubert-base-cased')\n",
    "# max_length=512\n",
    "\n",
    "\n",
    "# для моделей\n",
    "# fine_tuned_model_1728477275_LaBSE_adamw_focal_loss_tag_add_no_aug_no_split_10_LR_2e-05__no_lower_alpha_0_25_gamma_3\n",
    "\n",
    "tokenizer = AutoTokenizer.from_pretrained(\"cointegrated/LaBSE-en-ru\")\n",
    "max_length=64\n"
   ]
  },
  {
   "cell_type": "markdown",
   "metadata": {},
   "source": [
    "# read data"
   ]
  },
  {
   "cell_type": "code",
   "execution_count": 4,
   "metadata": {},
   "outputs": [
    {
     "data": {
      "text/plain": [
       "(4623, 9015)"
      ]
     },
     "execution_count": 4,
     "metadata": {},
     "output_type": "execute_result"
    }
   ],
   "source": [
    "train_df = pd.read_csv(os.path.join(DATA_DIR, \"train.csv\"))\n",
    "test_df = pd.read_csv(os.path.join(DATA_DIR, \"test.csv\"))\n",
    "len(train_df), len(test_df)"
   ]
  },
  {
   "cell_type": "markdown",
   "metadata": {},
   "source": [
    "# exploratory"
   ]
  },
  {
   "cell_type": "code",
   "execution_count": 5,
   "metadata": {},
   "outputs": [
    {
     "data": {
      "text/html": [
       "<div>\n",
       "<style scoped>\n",
       "    .dataframe tbody tr th:only-of-type {\n",
       "        vertical-align: middle;\n",
       "    }\n",
       "\n",
       "    .dataframe tbody tr th {\n",
       "        vertical-align: top;\n",
       "    }\n",
       "\n",
       "    .dataframe thead th {\n",
       "        text-align: right;\n",
       "    }\n",
       "</style>\n",
       "<table border=\"1\" class=\"dataframe\">\n",
       "  <thead>\n",
       "    <tr style=\"text-align: right;\">\n",
       "      <th></th>\n",
       "      <th>Unnamed: 0</th>\n",
       "      <th>index</th>\n",
       "      <th>assessment</th>\n",
       "      <th>tags</th>\n",
       "      <th>text</th>\n",
       "      <th>trend_id_res0</th>\n",
       "      <th>trend_id_res1</th>\n",
       "      <th>trend_id_res2</th>\n",
       "      <th>trend_id_res3</th>\n",
       "      <th>trend_id_res4</th>\n",
       "      <th>...</th>\n",
       "      <th>trend_id_res40</th>\n",
       "      <th>trend_id_res41</th>\n",
       "      <th>trend_id_res42</th>\n",
       "      <th>trend_id_res43</th>\n",
       "      <th>trend_id_res44</th>\n",
       "      <th>trend_id_res45</th>\n",
       "      <th>trend_id_res46</th>\n",
       "      <th>trend_id_res47</th>\n",
       "      <th>trend_id_res48</th>\n",
       "      <th>trend_id_res49</th>\n",
       "    </tr>\n",
       "  </thead>\n",
       "  <tbody>\n",
       "    <tr>\n",
       "      <th>0</th>\n",
       "      <td>0</td>\n",
       "      <td>5652</td>\n",
       "      <td>6.0</td>\n",
       "      <td>{ASSORTMENT,PROMOTIONS,DELIVERY}</td>\n",
       "      <td>Маленький выбор товаров, хотелось бы ассортиме...</td>\n",
       "      <td>0</td>\n",
       "      <td>0</td>\n",
       "      <td>0</td>\n",
       "      <td>0</td>\n",
       "      <td>0</td>\n",
       "      <td>...</td>\n",
       "      <td>0</td>\n",
       "      <td>0</td>\n",
       "      <td>0</td>\n",
       "      <td>0</td>\n",
       "      <td>0</td>\n",
       "      <td>0</td>\n",
       "      <td>0</td>\n",
       "      <td>0</td>\n",
       "      <td>0</td>\n",
       "      <td>0</td>\n",
       "    </tr>\n",
       "    <tr>\n",
       "      <th>1</th>\n",
       "      <td>1</td>\n",
       "      <td>18092</td>\n",
       "      <td>4.0</td>\n",
       "      <td>{ASSORTMENT,PRICE,PRODUCTS_QUALITY,DELIVERY}</td>\n",
       "      <td>Быстро</td>\n",
       "      <td>0</td>\n",
       "      <td>0</td>\n",
       "      <td>0</td>\n",
       "      <td>0</td>\n",
       "      <td>0</td>\n",
       "      <td>...</td>\n",
       "      <td>0</td>\n",
       "      <td>0</td>\n",
       "      <td>0</td>\n",
       "      <td>0</td>\n",
       "      <td>0</td>\n",
       "      <td>0</td>\n",
       "      <td>0</td>\n",
       "      <td>0</td>\n",
       "      <td>0</td>\n",
       "      <td>0</td>\n",
       "    </tr>\n",
       "  </tbody>\n",
       "</table>\n",
       "<p>2 rows × 55 columns</p>\n",
       "</div>"
      ],
      "text/plain": [
       "   Unnamed: 0  index  assessment  \\\n",
       "0           0   5652         6.0   \n",
       "1           1  18092         4.0   \n",
       "\n",
       "                                           tags  \\\n",
       "0              {ASSORTMENT,PROMOTIONS,DELIVERY}   \n",
       "1  {ASSORTMENT,PRICE,PRODUCTS_QUALITY,DELIVERY}   \n",
       "\n",
       "                                                text  trend_id_res0  \\\n",
       "0  Маленький выбор товаров, хотелось бы ассортиме...              0   \n",
       "1                                             Быстро              0   \n",
       "\n",
       "   trend_id_res1  trend_id_res2  trend_id_res3  trend_id_res4  ...  \\\n",
       "0              0              0              0              0  ...   \n",
       "1              0              0              0              0  ...   \n",
       "\n",
       "   trend_id_res40  trend_id_res41  trend_id_res42  trend_id_res43  \\\n",
       "0               0               0               0               0   \n",
       "1               0               0               0               0   \n",
       "\n",
       "   trend_id_res44  trend_id_res45  trend_id_res46  trend_id_res47  \\\n",
       "0               0               0               0               0   \n",
       "1               0               0               0               0   \n",
       "\n",
       "   trend_id_res48  trend_id_res49  \n",
       "0               0               0  \n",
       "1               0               0  \n",
       "\n",
       "[2 rows x 55 columns]"
      ]
     },
     "execution_count": 5,
     "metadata": {},
     "output_type": "execute_result"
    }
   ],
   "source": [
    "train_df.head(2)"
   ]
  },
  {
   "cell_type": "code",
   "execution_count": 6,
   "metadata": {},
   "outputs": [
    {
     "data": {
      "text/html": [
       "<div>\n",
       "<style scoped>\n",
       "    .dataframe tbody tr th:only-of-type {\n",
       "        vertical-align: middle;\n",
       "    }\n",
       "\n",
       "    .dataframe tbody tr th {\n",
       "        vertical-align: top;\n",
       "    }\n",
       "\n",
       "    .dataframe thead th {\n",
       "        text-align: right;\n",
       "    }\n",
       "</style>\n",
       "<table border=\"1\" class=\"dataframe\">\n",
       "  <thead>\n",
       "    <tr style=\"text-align: right;\">\n",
       "      <th></th>\n",
       "      <th>Unnamed: 0</th>\n",
       "      <th>index</th>\n",
       "      <th>assessment</th>\n",
       "      <th>tags</th>\n",
       "      <th>text</th>\n",
       "    </tr>\n",
       "  </thead>\n",
       "  <tbody>\n",
       "    <tr>\n",
       "      <th>0</th>\n",
       "      <td>1</td>\n",
       "      <td>3135</td>\n",
       "      <td>3.0</td>\n",
       "      <td>{DELIVERY}</td>\n",
       "      <td>Последнее время думаю плохо, сроки доставки да...</td>\n",
       "    </tr>\n",
       "    <tr>\n",
       "      <th>1</th>\n",
       "      <td>3</td>\n",
       "      <td>4655</td>\n",
       "      <td>2.0</td>\n",
       "      <td>{PRICE,DELIVERY,ASSORTMENT}</td>\n",
       "      <td>Цены намного выше магазинных но радуют акции</td>\n",
       "    </tr>\n",
       "  </tbody>\n",
       "</table>\n",
       "</div>"
      ],
      "text/plain": [
       "   Unnamed: 0  index  assessment                         tags  \\\n",
       "0           1   3135         3.0                   {DELIVERY}   \n",
       "1           3   4655         2.0  {PRICE,DELIVERY,ASSORTMENT}   \n",
       "\n",
       "                                                text  \n",
       "0  Последнее время думаю плохо, сроки доставки да...  \n",
       "1       Цены намного выше магазинных но радуют акции  "
      ]
     },
     "execution_count": 6,
     "metadata": {},
     "output_type": "execute_result"
    }
   ],
   "source": [
    "test_df.head(2)"
   ]
  },
  {
   "cell_type": "markdown",
   "metadata": {},
   "source": [
    "## spec.tokens"
   ]
  },
  {
   "cell_type": "code",
   "execution_count": 7,
   "metadata": {},
   "outputs": [
    {
     "data": {
      "text/plain": [
       "['[PHONE]', '[NUM]']"
      ]
     },
     "execution_count": 7,
     "metadata": {},
     "output_type": "execute_result"
    }
   ],
   "source": [
    "texts = train_df[\"text\"].fillna(\"\").tolist()\n",
    "\n",
    "def find_unique_tokens(strings):\n",
    "    # Функция для поиска токенов вида [DATA], [NUM], [INFO] и т.п.\n",
    "    pattern = r'\\[[A-Z]+\\]'\n",
    "    \n",
    "    unique_tokens = set()\n",
    "    \n",
    "    for string in strings:\n",
    "        matches = re.findall(pattern, string)\n",
    "        unique_tokens.update(matches)\n",
    "    \n",
    "    return list(unique_tokens)\n",
    "\n",
    "result = find_unique_tokens(texts)\n",
    "result"
   ]
  },
  {
   "cell_type": "markdown",
   "metadata": {},
   "source": [
    "## graphs"
   ]
  },
  {
   "cell_type": "code",
   "execution_count": 8,
   "metadata": {},
   "outputs": [
    {
     "name": "stdout",
     "output_type": "stream",
     "text": [
      "0\n"
     ]
    },
    {
     "data": {
      "image/png": "[encoded data removed]",
      "text/plain": [
       "<Figure size 1000x600 with 1 Axes>"
      ]
     },
     "metadata": {},
     "output_type": "display_data"
    }
   ],
   "source": [
    "train_df_origin = train_df[TARGET_COLS].copy()\n",
    "\n",
    "train_df_origin['target'] = train_df_origin.apply(\n",
    "    lambda row: ' '.join(row.index[row == 1].astype(str)) if row.any() else np.nan, axis=1\n",
    ")\n",
    "print(train_df_origin['target'].isna().sum())\n",
    "\n",
    "class_counts = train_df_origin['target'].str.split(expand=True).stack().value_counts().sort_index()\n",
    "\n",
    "# Построение гистограммы\n",
    "plt.figure(figsize=(10, 6))\n",
    "class_counts.plot(kind='bar')\n",
    "plt.title('train_df_origin')\n",
    "plt.xlabel('Классы')\n",
    "plt.ylabel('Частота')\n",
    "plt.xticks(rotation=60)  # Поворачиваем метки по оси X для удобства\n",
    "plt.grid(axis='y')\n",
    "\n",
    "# Показать график\n",
    "plt.show()"
   ]
  },
  {
   "cell_type": "code",
   "execution_count": 9,
   "metadata": {},
   "outputs": [
    {
     "data": {
      "text/plain": [
       "count    4623.000000\n",
       "mean       87.105775\n",
       "std        74.425236\n",
       "min         1.000000\n",
       "25%        28.000000\n",
       "50%        64.000000\n",
       "75%       125.000000\n",
       "max       279.000000\n",
       "Name: text_len, dtype: float64"
      ]
     },
     "metadata": {},
     "output_type": "display_data"
    },
    {
     "data": {
      "text/plain": [
       "<Axes: >"
      ]
     },
     "execution_count": 9,
     "metadata": {},
     "output_type": "execute_result"
    },
    {
     "data": {
      "image/png": "[encoded data removed]",
      "text/plain": [
       "<Figure size 640x480 with 1 Axes>"
      ]
     },
     "metadata": {},
     "output_type": "display_data"
    }
   ],
   "source": [
    "train_df[\"text_len\"] = train_df[\"text\"].apply(lambda x: len(x))\n",
    "display(train_df[\"text_len\"].describe())\n",
    "train_df[\"text_len\"].hist()"
   ]
  },
  {
   "cell_type": "markdown",
   "metadata": {},
   "source": [
    "## samples"
   ]
  },
  {
   "cell_type": "code",
   "execution_count": 10,
   "metadata": {},
   "outputs": [
    {
     "name": "stdout",
     "output_type": "stream",
     "text": [
      "Очень долго собираются заказы и курьеры едут дольше заявленного времени\n",
      "{ASSORTMENT,PRICE,PROMOTIONS,CATALOG_NAVIGATION,DELIVERY,PRODUCTS_QUALITY} \n",
      "\n",
      "Хотелось бы, чтобы цены были ниже. Тогда и заказывали бы у вас намного чаще. В магазинах все намного дешевле\n",
      "{PRICE,PROMOTIONS,ASSORTMENT} \n",
      "\n",
      "Норм\n",
      "{ASSORTMENT,PRICE,PROMOTIONS,CATALOG_NAVIGATION} \n",
      "\n",
      "Долго\n",
      "{DELIVERY} \n",
      "\n",
      "Бывает доставляют за [NUM] минут, а бывает один хлеб ждешь [NUM] часа. Пока дождешься уже ничего не нужро\n",
      "{DELIVERY,PRICE,SUPPORT} \n",
      "\n"
     ]
    }
   ],
   "source": [
    "train_df_sample = train_df.sample(5)\n",
    "for text, tags  in zip(\n",
    "    train_df_sample[\"text\"].values,\n",
    "    train_df_sample[\"tags\"].values\n",
    "):\n",
    "    print(text)\n",
    "    print(tags, \"\\n\")"
   ]
  },
  {
   "cell_type": "markdown",
   "metadata": {},
   "source": [
    "# data preprocessing"
   ]
  },
  {
   "cell_type": "markdown",
   "metadata": {},
   "source": [
    "## tags"
   ]
  },
  {
   "cell_type": "code",
   "execution_count": 11,
   "metadata": {},
   "outputs": [],
   "source": [
    "def tags_translation(tags):\n",
    "    return tags.replace(\"ASSORTMENT\", \"ассортимент\")\\\n",
    "                .replace(\"DELIVERY\", \"доставка\")\\\n",
    "                .replace(\"SUPPORT\", \"служба поддержки\")\\\n",
    "                .replace(\"PRICE\", \"цена\")\\\n",
    "                .replace(\"PROMOTIONS\", \"реклама\")\\\n",
    "                .replace(\"PRODUCTS_QUALITY\", \"качество продуктов\")\\\n",
    "                .replace(\"CATALOG_NAVIGATION\", \"навигация по каталогу\")\\\n",
    "                .replace(\"PAYMENT\", \"способ оплаты\")\n",
    "\n",
    "test_df[\"tags\"] = test_df[\"tags\"].fillna(\"{}\")\n",
    "train_df[\"tags\"] = train_df[\"tags\"].fillna(\"{}\")\n",
    "\n",
    "test_df[\"tags\"] = test_df[\"tags\"].map(tags_translation)\n",
    "train_df[\"tags\"] = train_df[\"tags\"].map(tags_translation)"
   ]
  },
  {
   "cell_type": "markdown",
   "metadata": {},
   "source": [
    "## text"
   ]
  },
  {
   "cell_type": "code",
   "execution_count": 12,
   "metadata": {},
   "outputs": [],
   "source": [
    "def preprocess_text(\n",
    "    text,\n",
    "    normalize_spaces=True,\n",
    "    filter_4_and_more_repeats=True,\n",
    "    demojize=True,\n",
    "    drop_stops=False, \n",
    "    lemmatize=False, \n",
    "    stops=STOPS, \n",
    "    morph=MORPH,\n",
    "    make_lower = False,\n",
    "    capitalize_special_tokens=True,\n",
    "):\n",
    "    if normalize_spaces:\n",
    "        text = re.sub(r'\\s+', ' ', text).strip()\n",
    "    if filter_4_and_more_repeats:  \n",
    "        text = re.sub(r'(.)\\1{3,}', r'\\1\\1\\1', text)\n",
    "    if demojize:\n",
    "        text = emoji.demojize(text, language='ru')\n",
    "    if drop_stops:\n",
    "        text = \" \".join([word for word in text.split() if word not in stops])\n",
    "    if lemmatize:\n",
    "        text = \" \".join([morph.parse(word)[0].normal_form for word in text.split()])\n",
    "    if make_lower:\n",
    "        text = text.lower()\n",
    "\n",
    "    if capitalize_special_tokens:\n",
    "        pattern = r'\\[[a-z]+\\]'\n",
    "        def to_upper(match):\n",
    "            return match.group(0).upper()\n",
    "        text = re.sub(pattern, to_upper, text)\n",
    "    return text\n",
    "\n",
    "\n",
    "train_df[\"text\"] = train_df[\"text\"].fillna(\"\")\n",
    "train_df['text'] = train_df['text'].apply(\n",
    "    preprocess_text,\n",
    "    normalize_spaces=True,\n",
    "    filter_4_and_more_repeats=True,\n",
    "    demojize=True,\n",
    "    drop_stops=False, \n",
    "    lemmatize=False,\n",
    "    make_lower=True,\n",
    "    capitalize_special_tokens=True,\n",
    ")\n",
    "\n",
    "test_df[\"text\"] = test_df[\"text\"].fillna(\"\")\n",
    "test_df['text'] = test_df['text'].apply(\n",
    "    preprocess_text,\n",
    "    normalize_spaces=True,\n",
    "    filter_4_and_more_repeats=True,\n",
    "    demojize=True,\n",
    "    drop_stops=False, \n",
    "    lemmatize=False,\n",
    "    make_lower=True,\n",
    "    capitalize_special_tokens=True,\n",
    ")"
   ]
  },
  {
   "cell_type": "markdown",
   "metadata": {},
   "source": [
    "# augmentation"
   ]
  },
  {
   "cell_type": "code",
   "execution_count": 13,
   "metadata": {},
   "outputs": [],
   "source": [
    "if AUG_FILE_NAME != \"no_aug\":\n",
    "    aug_df = pd.read_csv(os.path.join(DATA_DIR, AUG_FILE_NAME + \".csv\"), sep=\"$\")\n",
    "\n",
    "    aug_df['text'] = test_df['text'].apply(\n",
    "        preprocess_text,\n",
    "        normalize_spaces=True,\n",
    "        filter_4_and_more_repeats=True,\n",
    "        demojize=True,\n",
    "        make_lower=True,\n",
    "        capitalize_special_tokens=True,\n",
    "    )\n",
    "\n",
    "    print(len(aug_df))\n",
    "    display(aug_df.head(2))\n",
    "\n",
    "    print(f\"До аугментации: {len(train_df)}\")\n",
    "    train_df = pd.concat([aug_df, train_df], axis=0, ignore_index=True)\n",
    "    print(f\"После аугментации: {len(train_df)}\")\n",
    "    train_df = train_df.drop_duplicates(subset=[\"text\"])\n",
    "    print(f\"После удаления дубликатов: {len(train_df)}\")\n",
    "\n",
    "\n",
    "    train_df_aug = train_df[TARGET_COLS].copy()\n",
    "    train_df_aug['target'] = train_df_aug.apply(\n",
    "        lambda row: ' '.join(row.index[row == 1].astype(str)) if row.any() else np.nan, axis=1\n",
    "    )\n",
    "    print(train_df_aug['target'].isna().sum())\n",
    "\n",
    "    class_counts = train_df_aug['target'].str.split(expand=True).stack().value_counts().sort_index()\n",
    "\n",
    "    # Построение гистограммы\n",
    "    plt.figure(figsize=(10, 6))\n",
    "    class_counts.plot(kind='bar')\n",
    "    plt.title('train_df после аугментации')\n",
    "    plt.xlabel('Классы')\n",
    "    plt.ylabel('Частота')\n",
    "    plt.xticks(rotation=45)  # Поворачиваем метки по оси X для удобства\n",
    "    plt.grid(axis='y')\n",
    "\n",
    "    # Показать график\n",
    "    plt.show()"
   ]
  },
  {
   "cell_type": "markdown",
   "metadata": {},
   "source": [
    "# data prepering for training"
   ]
  },
  {
   "cell_type": "markdown",
   "metadata": {},
   "source": [
    "## target preparing"
   ]
  },
  {
   "cell_type": "code",
   "execution_count": 14,
   "metadata": {},
   "outputs": [],
   "source": [
    "train_df['target'] = train_df.apply(\n",
    "    lambda row: row[TARGET_COLS].tolist(),\n",
    "    axis=1\n",
    ")\n",
    "labels = torch.tensor(train_df['target'].tolist(), dtype=torch.float32)"
   ]
  },
  {
   "cell_type": "markdown",
   "metadata": {},
   "source": [
    "## index preparing"
   ]
  },
  {
   "cell_type": "code",
   "execution_count": 15,
   "metadata": {},
   "outputs": [],
   "source": [
    "train_df.index = train_df[\"index\"]\n",
    "test_df.index = test_df[\"index\"]"
   ]
  },
  {
   "cell_type": "markdown",
   "metadata": {},
   "source": [
    "## tags adding"
   ]
  },
  {
   "cell_type": "code",
   "execution_count": 16,
   "metadata": {},
   "outputs": [],
   "source": [
    "if TAG_ADDING == \"tag_add\":\n",
    "    def add_tags(row):\n",
    "    # Объединяем текст отзыва и теги\n",
    "        return row['text'] + \"\\n[TAGS] \" + row['tags']\n",
    "    train_df[\"text\"] = train_df.apply(add_tags, axis=1)\n",
    "    test_df[\"text\"] = test_df.apply(add_tags, axis=1)"
   ]
  },
  {
   "cell_type": "markdown",
   "metadata": {},
   "source": [
    "# training"
   ]
  },
  {
   "cell_type": "markdown",
   "metadata": {},
   "source": [
    "## data split"
   ]
  },
  {
   "cell_type": "code",
   "execution_count": 17,
   "metadata": {},
   "outputs": [],
   "source": [
    "if DATA_SPLIT == \"data_split\":\n",
    "    threshold = round(len(train_df) * 0.8)\n",
    "    val_df = train_df[threshold:]\n",
    "    train_df = train_df[:threshold]"
   ]
  },
  {
   "cell_type": "markdown",
   "metadata": {},
   "source": [
    "## tokenizing -> loader"
   ]
  },
  {
   "cell_type": "code",
   "execution_count": 18,
   "metadata": {},
   "outputs": [],
   "source": [
    "train_encodings = tokenizer(\n",
    "        train_df['text'].tolist(),\n",
    "        padding=True,\n",
    "        truncation=True,\n",
    "        max_length=max_length,\n",
    "        return_tensors='pt'\n",
    "    )\n",
    "\n",
    "test_encodings = tokenizer(\n",
    "        test_df['text'].tolist(),\n",
    "        padding=True,\n",
    "        truncation=True,\n",
    "        max_length=max_length,\n",
    "        return_tensors='pt'\n",
    "    )\n",
    "\n",
    "if DATA_SPLIT == \"data_split\":\n",
    "    val_encodings = tokenizer(\n",
    "            val_df['text'].tolist(),\n",
    "            padding=True,\n",
    "            truncation=True,\n",
    "            max_length=max_length,\n",
    "            return_tensors='pt'\n",
    "        )\n",
    "    \n",
    "class MultiLabelDataset(torch.utils.data.Dataset):\n",
    "    def __init__(self, encodings, labels):\n",
    "        self.encodings = encodings\n",
    "        self.labels = labels\n",
    "\n",
    "    def __len__(self):\n",
    "        return len(self.labels)\n",
    "\n",
    "    def __getitem__(self, idx):\n",
    "        item = {key: torch.tensor(val[idx]) for key, val in self.encodings.items()}\n",
    "        item['labels'] = torch.tensor(self.labels[idx], dtype=torch.float)\n",
    "        return item\n",
    "    \n",
    "\n",
    "train_dataset = MultiLabelDataset(train_encodings, train_df[\"target\"].tolist())\n",
    "train_loader = DataLoader(train_dataset, batch_size=32, shuffle=True)\n",
    "if DATA_SPLIT == \"data_split\":\n",
    "    val_dataset = MultiLabelDataset(val_encodings, val_df[\"target\"].tolist())\n",
    "    val_loader = DataLoader(val_dataset, batch_size=32, shuffle=False)"
   ]
  },
  {
   "cell_type": "markdown",
   "metadata": {},
   "source": [
    "## training params"
   ]
  },
  {
   "cell_type": "code",
   "execution_count": 19,
   "metadata": {},
   "outputs": [],
   "source": [
    "class FocalLoss(nn.Module):\n",
    "    def __init__(self, alpha=1.0, gamma=2.0, reduction='mean'):\n",
    "        super(FocalLoss, self).__init__()\n",
    "        self.alpha = alpha\n",
    "        self.gamma = gamma\n",
    "        self.reduction = reduction\n",
    "\n",
    "    def forward(self, inputs, targets):\n",
    "        BCE_loss = nn.BCEWithLogitsLoss(reduction='none')(inputs, targets)\n",
    "        targets = targets.type(torch.float32)\n",
    "        \n",
    "        # Focal loss calculation\n",
    "        pt = torch.exp(-BCE_loss)  # Probability of true class\n",
    "        F_loss = self.alpha * (1 - pt) ** self.gamma * BCE_loss\n",
    "        \n",
    "        if self.reduction == 'mean':\n",
    "            return F_loss.mean()\n",
    "        elif self.reduction == 'sum':\n",
    "            return F_loss.sum()\n",
    "        else:\n",
    "            return F_loss"
   ]
  },
  {
   "cell_type": "code",
   "execution_count": 20,
   "metadata": {},
   "outputs": [],
   "source": [
    "def training(\n",
    "    run_name,\n",
    "    model,\n",
    "    optimizer,\n",
    "    criterion,\n",
    "    train_loader,\n",
    "    val_loader,\n",
    "    epochs,\n",
    "    device,\n",
    "    scheduler=None,\n",
    "    early_stop=True,\n",
    "    early_stopping_patience=3,  # Параметр для раннего прекращения\n",
    "    threshold=0.5,\n",
    "):\n",
    "    # TensorBoard\n",
    "    writer = SummaryWriter(log_dir=f\"runs/{run_name}\")\n",
    "\n",
    "    model = model.to(device)\n",
    "\n",
    "    def compute_accuracy(preds, labels):\n",
    "        # Функция для расчета Accuracy\n",
    "        preds = (preds > threshold).float()  # Бинаризация предсказаний\n",
    "        return accuracy_score(labels.cpu().numpy(), preds.cpu().numpy())\n",
    "\n",
    "    best_val_accuracy = 0\n",
    "    patience_counter = 0\n",
    "\n",
    "    # Обучение модели\n",
    "    for epoch in tqdm(range(epochs)):\n",
    "        model.train()\n",
    "        train_preds = []\n",
    "        train_labels = []\n",
    "        total_loss = 0\n",
    "        for batch in train_loader:\n",
    "            optimizer.zero_grad()\n",
    "            input_ids = batch[\"input_ids\"].to(device)\n",
    "            attention_mask = batch[\"attention_mask\"].to(device)\n",
    "            labels = batch[\"labels\"].to(device)\n",
    "\n",
    "            outputs = model(input_ids, attention_mask=attention_mask, labels=labels)\n",
    "            train_preds.append(torch.sigmoid(outputs.logits))\n",
    "            train_labels.append(labels)\n",
    "\n",
    "            loss = criterion(outputs.logits, labels)\n",
    "            total_loss += loss.item()\n",
    "\n",
    "            loss.backward()\n",
    "            optimizer.step()\n",
    "\n",
    "            if scheduler:\n",
    "                scheduler.step()\n",
    "\n",
    "        train_preds = torch.cat(train_preds)\n",
    "        train_labels = torch.cat(train_labels)\n",
    "        train_accuracy = compute_accuracy(train_preds, train_labels)\n",
    "        writer.add_scalar(\"Accuracy/train\", train_accuracy, epoch)\n",
    "\n",
    "        avg_loss = total_loss / len(train_loader)\n",
    "        writer.add_scalar(\"Loss/train\", avg_loss, epoch)\n",
    "\n",
    "        print(\n",
    "            f\"Epoch {epoch + 1}/{epochs}\\nTrain loss: {avg_loss:.4f}, Train acc: {train_accuracy:.4f}\"\n",
    "        )\n",
    "        if DATA_SPLIT == \"data_split\":\n",
    "            # Валидация\n",
    "            model.eval()\n",
    "            val_preds = []\n",
    "            val_labels = []\n",
    "            total_loss = 0\n",
    "            with torch.no_grad():\n",
    "                for val_batch in val_loader:\n",
    "                    val_input_ids = val_batch[\"input_ids\"].to(device)\n",
    "                    val_attention_mask = val_batch[\"attention_mask\"].to(device)\n",
    "                    val_labels_batch = val_batch[\"labels\"].to(device)\n",
    "\n",
    "                    val_outputs = model(\n",
    "                        val_input_ids, attention_mask=val_attention_mask\n",
    "                    )\n",
    "                    val_preds.append(torch.sigmoid(val_outputs.logits))\n",
    "                    val_labels.append(val_labels_batch)\n",
    "\n",
    "                    loss = criterion(val_outputs.logits, val_labels_batch)\n",
    "                    total_loss += loss.item()\n",
    "\n",
    "            val_preds = torch.cat(val_preds)\n",
    "            val_labels = torch.cat(val_labels)\n",
    "            val_accuracy = compute_accuracy(val_preds, val_labels)\n",
    "            writer.add_scalar(\"Accuracy/val\", val_accuracy, epoch)\n",
    "\n",
    "            avg_loss = total_loss / len(val_loader)\n",
    "            writer.add_scalar(\"Loss/val\", avg_loss, epoch)\n",
    "\n",
    "            print(f\"Val loss: {avg_loss:.4f}, Val acc: {val_accuracy:.4f}\")\n",
    "\n",
    "            if early_stop:\n",
    "                # Раннее прекращение\n",
    "                if val_accuracy > best_val_accuracy:\n",
    "                    best_val_accuracy = val_accuracy\n",
    "                    patience_counter = 0\n",
    "                    # Сохранение лучшей модели\n",
    "                    model.save_pretrained(f\"fine_tuned_model_{run_name}\")\n",
    "                else:\n",
    "                    patience_counter += 1\n",
    "                    if patience_counter >= early_stopping_patience:\n",
    "                        print(\"Early stopping triggered.\")\n",
    "                        break\n",
    "    if DATA_SPLIT != \"data_split\":\n",
    "        model.save_pretrained(f\"fine_tuned_model_{run_name}\")\n",
    "    writer.close()"
   ]
  },
  {
   "cell_type": "code",
   "execution_count": 21,
   "metadata": {},
   "outputs": [],
   "source": [
    "# # для модели fine_tuned_model_1728477275_LaBSE_adamw_focal_loss_tag_add_no_aug_no_split_10_LR_2e-05__no_lower_alpha_0_25_gamma_3\n",
    "\n",
    "# MODEL_NAME = 'LaBSE'\n",
    "# MODEL = AutoModelForSequenceClassification.from_pretrained(\"cointegrated/LaBSE-en-ru\", num_labels=labels.shape[1])\n",
    "\n",
    "\n",
    "# # для моделей\n",
    "# # fine_tuned_model_1728416226_rubert_adamw_focal_loss_tag_add_no_aug_no_split_17_LR_2e-05_sigmoida_alpha_0_25_gamma_3\n",
    "# # fine_tuned_model_1728380842_rubert_adamw_focal_loss_tag_add_no_aug_data_split_50_LR_2e-05__alpha_0_1\n",
    "\n",
    "# # MODEL_NAME = 'rubert'\n",
    "# # MODEL = BertForSequenceClassification.from_pretrained(\n",
    "# #         'DeepPavlov/rubert-base-cased',\n",
    "# #         num_labels=labels.shape[1]\n",
    "# #         )\n",
    "\n",
    "# LR = 2e-5\n",
    "# # для модели fine_tuned_model_1728380842_rubert_adamw_focal_loss_tag_add_no_aug_data_split_50_LR_2e-05__alpha_0_1\n",
    "# # было использовано 50 эпох с остановкой на 19 по раннему стопу\n",
    "# # EPOCHS = 50\n",
    "\n",
    "# # для модели fine_tuned_model_1728416226_rubert_adamw_focal_loss_tag_add_no_aug_no_split_17_LR_2e-05_sigmoida_alpha_0_25_gamma_3\n",
    "# # было использовано 17 эпох\n",
    "# # EPOCHS = 17\n",
    "\n",
    "# # для модели fine_tuned_model_1728477275_LaBSE_adamw_focal_loss_tag_add_no_aug_no_split_10_LR_2e-05__no_lower_alpha_0_25_gamma_3\n",
    "# # было использовано 10 эпох\n",
    "# EPOCHS = 10\n",
    "\n",
    "# OPTIMIZER_NAME = 'adamw'\n",
    "# OPTIMIZER = AdamW(MODEL.parameters(), lr=LR, correct_bias=False)\n",
    "\n",
    "# SCHEDULER = None\n",
    "\n",
    "# CRITERION_NAME = 'focal_loss'\n",
    "# # для модели fine_tuned_model_1728380842_rubert_adamw_focal_loss_tag_add_no_aug_data_split_50_LR_2e-05__alpha_0_1\n",
    "# # alpha=0.1\n",
    "# # для остальных: alpha=0.25\n",
    "# CRITERION = FocalLoss(alpha=0.75, gamma=3.0, reduction='mean')\n",
    "\n",
    "\n",
    "# ADD_COMM = \"_alpha_0_75_gamma_3\"\n",
    "\n",
    "# RUN_NAME = f\"{int(time.time())}_{MODEL_NAME}_{OPTIMIZER_NAME}_{CRITERION_NAME}_{TAG_ADDING}_{AUG_FILE_NAME}_{DATA_SPLIT}_{EPOCHS}_LR_{LR}_{ADD_COMM}\"\n",
    "# print(RUN_NAME)\n",
    "\n",
    "# if DATA_SPLIT == \"data_split\":\n",
    "#         training(\n",
    "#                 run_name=RUN_NAME, \n",
    "#                 model=MODEL, \n",
    "#                 optimizer=OPTIMIZER, \n",
    "#                 criterion=CRITERION, \n",
    "#                 train_loader=train_loader, \n",
    "#                 val_loader=val_loader, \n",
    "#                 epochs=EPOCHS,\n",
    "#                 device=DEVICE,\n",
    "#                 scheduler=SCHEDULER,\n",
    "#                 early_stop=True,\n",
    "#                 early_stopping_patience=2,\n",
    "#                 threshold=THRESHOULD\n",
    "#         )\n",
    "# else:\n",
    "#         training(\n",
    "#                 run_name=RUN_NAME, \n",
    "#                 model=MODEL, \n",
    "#                 optimizer=OPTIMIZER, \n",
    "#                 criterion=CRITERION, \n",
    "#                 train_loader=train_loader, \n",
    "#                 val_loader=None, \n",
    "#                 epochs=EPOCHS,\n",
    "#                 device=DEVICE,\n",
    "#                 scheduler=SCHEDULER,\n",
    "#                 early_stop=True,\n",
    "#                 early_stopping_patience=2,\n",
    "#                 threshold=THRESHOULD\n",
    "#         )"
   ]
  },
  {
   "cell_type": "markdown",
   "metadata": {},
   "source": [
    "# inference"
   ]
  },
  {
   "cell_type": "code",
   "execution_count": 22,
   "metadata": {},
   "outputs": [
    {
     "data": {
      "text/html": [
       "<div>\n",
       "<style scoped>\n",
       "    .dataframe tbody tr th:only-of-type {\n",
       "        vertical-align: middle;\n",
       "    }\n",
       "\n",
       "    .dataframe tbody tr th {\n",
       "        vertical-align: top;\n",
       "    }\n",
       "\n",
       "    .dataframe thead th {\n",
       "        text-align: right;\n",
       "    }\n",
       "</style>\n",
       "<table border=\"1\" class=\"dataframe\">\n",
       "  <thead>\n",
       "    <tr style=\"text-align: right;\">\n",
       "      <th></th>\n",
       "      <th>0</th>\n",
       "      <th>1</th>\n",
       "      <th>2</th>\n",
       "      <th>3</th>\n",
       "      <th>4</th>\n",
       "      <th>5</th>\n",
       "      <th>6</th>\n",
       "      <th>7</th>\n",
       "      <th>8</th>\n",
       "      <th>9</th>\n",
       "      <th>...</th>\n",
       "      <th>41</th>\n",
       "      <th>42</th>\n",
       "      <th>43</th>\n",
       "      <th>44</th>\n",
       "      <th>45</th>\n",
       "      <th>46</th>\n",
       "      <th>47</th>\n",
       "      <th>48</th>\n",
       "      <th>49</th>\n",
       "      <th>target</th>\n",
       "    </tr>\n",
       "    <tr>\n",
       "      <th>index</th>\n",
       "      <th></th>\n",
       "      <th></th>\n",
       "      <th></th>\n",
       "      <th></th>\n",
       "      <th></th>\n",
       "      <th></th>\n",
       "      <th></th>\n",
       "      <th></th>\n",
       "      <th></th>\n",
       "      <th></th>\n",
       "      <th></th>\n",
       "      <th></th>\n",
       "      <th></th>\n",
       "      <th></th>\n",
       "      <th></th>\n",
       "      <th></th>\n",
       "      <th></th>\n",
       "      <th></th>\n",
       "      <th></th>\n",
       "      <th></th>\n",
       "      <th></th>\n",
       "    </tr>\n",
       "  </thead>\n",
       "  <tbody>\n",
       "    <tr>\n",
       "      <th>3135</th>\n",
       "      <td>0.0</td>\n",
       "      <td>1.0</td>\n",
       "      <td>1.0</td>\n",
       "      <td>0.0</td>\n",
       "      <td>0.0</td>\n",
       "      <td>0.0</td>\n",
       "      <td>0.0</td>\n",
       "      <td>0.0</td>\n",
       "      <td>0.0</td>\n",
       "      <td>0.0</td>\n",
       "      <td>...</td>\n",
       "      <td>0.0</td>\n",
       "      <td>0.0</td>\n",
       "      <td>0.0</td>\n",
       "      <td>0.0</td>\n",
       "      <td>0.0</td>\n",
       "      <td>0.0</td>\n",
       "      <td>0.0</td>\n",
       "      <td>0.0</td>\n",
       "      <td>0.0</td>\n",
       "      <td>1 2 12</td>\n",
       "    </tr>\n",
       "    <tr>\n",
       "      <th>4655</th>\n",
       "      <td>0.0</td>\n",
       "      <td>0.0</td>\n",
       "      <td>0.0</td>\n",
       "      <td>0.0</td>\n",
       "      <td>0.0</td>\n",
       "      <td>0.0</td>\n",
       "      <td>0.0</td>\n",
       "      <td>0.0</td>\n",
       "      <td>0.0</td>\n",
       "      <td>0.0</td>\n",
       "      <td>...</td>\n",
       "      <td>0.0</td>\n",
       "      <td>0.0</td>\n",
       "      <td>0.0</td>\n",
       "      <td>0.0</td>\n",
       "      <td>0.0</td>\n",
       "      <td>0.0</td>\n",
       "      <td>0.0</td>\n",
       "      <td>0.0</td>\n",
       "      <td>0.0</td>\n",
       "      <td>12</td>\n",
       "    </tr>\n",
       "    <tr>\n",
       "      <th>22118</th>\n",
       "      <td>0.0</td>\n",
       "      <td>0.0</td>\n",
       "      <td>0.0</td>\n",
       "      <td>0.0</td>\n",
       "      <td>0.0</td>\n",
       "      <td>0.0</td>\n",
       "      <td>0.0</td>\n",
       "      <td>0.0</td>\n",
       "      <td>0.0</td>\n",
       "      <td>0.0</td>\n",
       "      <td>...</td>\n",
       "      <td>0.0</td>\n",
       "      <td>0.0</td>\n",
       "      <td>0.0</td>\n",
       "      <td>0.0</td>\n",
       "      <td>0.0</td>\n",
       "      <td>0.0</td>\n",
       "      <td>0.0</td>\n",
       "      <td>0.0</td>\n",
       "      <td>0.0</td>\n",
       "      <td>35</td>\n",
       "    </tr>\n",
       "    <tr>\n",
       "      <th>23511</th>\n",
       "      <td>1.0</td>\n",
       "      <td>0.0</td>\n",
       "      <td>0.0</td>\n",
       "      <td>0.0</td>\n",
       "      <td>0.0</td>\n",
       "      <td>0.0</td>\n",
       "      <td>0.0</td>\n",
       "      <td>0.0</td>\n",
       "      <td>0.0</td>\n",
       "      <td>0.0</td>\n",
       "      <td>...</td>\n",
       "      <td>0.0</td>\n",
       "      <td>0.0</td>\n",
       "      <td>0.0</td>\n",
       "      <td>0.0</td>\n",
       "      <td>0.0</td>\n",
       "      <td>0.0</td>\n",
       "      <td>0.0</td>\n",
       "      <td>0.0</td>\n",
       "      <td>0.0</td>\n",
       "      <td>0</td>\n",
       "    </tr>\n",
       "    <tr>\n",
       "      <th>45</th>\n",
       "      <td>0.0</td>\n",
       "      <td>0.0</td>\n",
       "      <td>0.0</td>\n",
       "      <td>0.0</td>\n",
       "      <td>0.0</td>\n",
       "      <td>0.0</td>\n",
       "      <td>0.0</td>\n",
       "      <td>0.0</td>\n",
       "      <td>0.0</td>\n",
       "      <td>0.0</td>\n",
       "      <td>...</td>\n",
       "      <td>0.0</td>\n",
       "      <td>0.0</td>\n",
       "      <td>0.0</td>\n",
       "      <td>0.0</td>\n",
       "      <td>0.0</td>\n",
       "      <td>0.0</td>\n",
       "      <td>0.0</td>\n",
       "      <td>0.0</td>\n",
       "      <td>0.0</td>\n",
       "      <td>NaN</td>\n",
       "    </tr>\n",
       "  </tbody>\n",
       "</table>\n",
       "<p>5 rows × 51 columns</p>\n",
       "</div>"
      ],
      "text/plain": [
       "         0    1    2    3    4    5    6    7    8    9  ...   41   42   43  \\\n",
       "index                                                    ...                  \n",
       "3135   0.0  1.0  1.0  0.0  0.0  0.0  0.0  0.0  0.0  0.0  ...  0.0  0.0  0.0   \n",
       "4655   0.0  0.0  0.0  0.0  0.0  0.0  0.0  0.0  0.0  0.0  ...  0.0  0.0  0.0   \n",
       "22118  0.0  0.0  0.0  0.0  0.0  0.0  0.0  0.0  0.0  0.0  ...  0.0  0.0  0.0   \n",
       "23511  1.0  0.0  0.0  0.0  0.0  0.0  0.0  0.0  0.0  0.0  ...  0.0  0.0  0.0   \n",
       "45     0.0  0.0  0.0  0.0  0.0  0.0  0.0  0.0  0.0  0.0  ...  0.0  0.0  0.0   \n",
       "\n",
       "        44   45   46   47   48   49  target  \n",
       "index                                        \n",
       "3135   0.0  0.0  0.0  0.0  0.0  0.0  1 2 12  \n",
       "4655   0.0  0.0  0.0  0.0  0.0  0.0      12  \n",
       "22118  0.0  0.0  0.0  0.0  0.0  0.0      35  \n",
       "23511  0.0  0.0  0.0  0.0  0.0  0.0       0  \n",
       "45     0.0  0.0  0.0  0.0  0.0  0.0     NaN  \n",
       "\n",
       "[5 rows x 51 columns]"
      ]
     },
     "metadata": {},
     "output_type": "display_data"
    }
   ],
   "source": [
    "# для fine_tuned_model_1728380842_rubert_adamw_focal_loss_tag_add_no_aug_data_split_50_LR_2e-05__alpha_0_1\n",
    "# model_name = \"fine_tuned_model_1728380842_rubert_adamw_focal_loss_tag_add_no_aug_data_split_50_LR_2e-05__alpha_0_1\"\n",
    "# model = BertForSequenceClassification.from_pretrained(model_name)\n",
    "\n",
    "# для fine_tuned_model_1728416226_rubert_adamw_focal_loss_tag_add_no_aug_no_split_17_LR_2e-05_sigmoida_alpha_0_25_gamma_3\n",
    "# model_name = \"fine_tuned_model_1728416226_rubert_adamw_focal_loss_tag_add_no_aug_no_split_17_LR_2e-05_sigmoida_alpha_0_25_gamma_3\"\n",
    "# model = BertForSequenceClassification.from_pretrained(model_name)\n",
    "\n",
    "# для fine_tuned_model_1728477275_LaBSE_adamw_focal_loss_tag_add_no_aug_no_split_10_LR_2e-05__no_lower_alpha_0_25_gamma_3\n",
    "model_name = \"fine_tuned_model_1728477275_LaBSE_adamw_focal_loss_tag_add_no_aug_no_split_10_LR_2e-05__no_lower_alpha_0_25_gamma_3\"\n",
    "model = AutoModelForSequenceClassification.from_pretrained(model_name)\n",
    "\n",
    "\n",
    "model.eval()\n",
    "model = model.to(DEVICE)\n",
    "\n",
    "# Перемещение данных на устройство\n",
    "input_ids = test_encodings['input_ids'].to(DEVICE)\n",
    "attention_mask = test_encodings['attention_mask'].to(DEVICE)\n",
    "\n",
    "# Получение предсказаний по частям\n",
    "batch_size = 32\n",
    "predictions = []\n",
    "\n",
    "with torch.no_grad():\n",
    "    for i in range(0, len(input_ids), batch_size):\n",
    "        batch_input_ids = input_ids[i:i + batch_size]\n",
    "        batch_attention_mask = attention_mask[i:i + batch_size]\n",
    "\n",
    "        # Получение предсказаний\n",
    "        outputs = model(batch_input_ids, attention_mask=batch_attention_mask)\n",
    "        logits = outputs.logits\n",
    "        preds = torch.sigmoid(logits)\n",
    "        predictions.append(preds)\n",
    "\n",
    "# Объединение предсказаний\n",
    "predictions = torch.cat(predictions)\n",
    "\n",
    "# Применение порога для бинаризации предсказаний\n",
    "binary_predictions = (predictions > THRESHOULD).float()\n",
    "\n",
    "# Создание DataFrame с предсказаниями\n",
    "predictions_df = pd.DataFrame(binary_predictions.cpu().numpy(), index=test_df.index)\n",
    "predictions_df['target'] = predictions_df.apply(\n",
    "    lambda row: ' '.join(row.index[row == 1].astype(str)) if row.any() else np.nan, axis=1\n",
    ")\n",
    "\n",
    "display(predictions_df.head())\n",
    "predictions_df.reset_index()[[\"index\", \"target\"]].to_csv(\"sub.csv\", index=False)"
   ]
  },
  {
   "cell_type": "markdown",
   "metadata": {},
   "source": [
    "## inference analysis"
   ]
  },
  {
   "cell_type": "code",
   "execution_count": 23,
   "metadata": {},
   "outputs": [
    {
     "name": "stdout",
     "output_type": "stream",
     "text": [
      "Всего NaN в трейне: 0\n"
     ]
    },
    {
     "data": {
      "image/png": "[encoded data removed]",
      "text/plain": [
       "<Figure size 1000x600 with 1 Axes>"
      ]
     },
     "metadata": {},
     "output_type": "display_data"
    }
   ],
   "source": [
    "print(\"Всего NaN в трейне:\", train_df_origin['target'].isna().sum())\n",
    "\n",
    "class_counts = train_df_origin['target'].str.split(expand=True).stack().value_counts().sort_index()\n",
    "\n",
    "# Построение гистограммы\n",
    "plt.figure(figsize=(10, 6))\n",
    "class_counts.plot(kind='bar')\n",
    "plt.title('train_df_origin')\n",
    "plt.xlabel('Классы')\n",
    "plt.ylabel('Частота')\n",
    "plt.xticks(rotation=45)  # Поворачиваем метки по оси X для удобства\n",
    "plt.grid(axis='y')\n",
    "\n",
    "# Показать график\n",
    "plt.show()"
   ]
  },
  {
   "cell_type": "code",
   "execution_count": 24,
   "metadata": {},
   "outputs": [
    {
     "name": "stdout",
     "output_type": "stream",
     "text": [
      "Всего NaN в предсказаниях: 757\n"
     ]
    },
    {
     "data": {
      "image/png": "[encoded data removed]",
      "text/plain": [
       "<Figure size 1000x600 with 1 Axes>"
      ]
     },
     "metadata": {},
     "output_type": "display_data"
    }
   ],
   "source": [
    "print(\"Всего NaN в предсказаниях:\", predictions_df[\"target\"].isna().sum())\n",
    "\n",
    "class_counts = predictions_df['target'].str.split(expand=True).stack().value_counts().sort_index()\n",
    "\n",
    "# Построение гистограммы\n",
    "plt.figure(figsize=(10, 6))\n",
    "class_counts.plot(kind='bar')\n",
    "plt.title('predictions_df')\n",
    "plt.xlabel('Классы')\n",
    "plt.ylabel('Частота')\n",
    "plt.xticks(rotation=30)  # Поворачиваем метки по оси X для удобства\n",
    "plt.grid(axis='y')\n",
    "\n",
    "# Показать график\n",
    "plt.show()"
   ]
  },
  {
   "cell_type": "code",
   "execution_count": null,
   "metadata": {},
   "outputs": [],
   "source": []
  },
  {
   "cell_type": "code",
   "execution_count": null,
   "metadata": {},
   "outputs": [],
   "source": []
  },
  {
   "cell_type": "code",
   "execution_count": null,
   "metadata": {},
   "outputs": [],
   "source": []
  },
  {
   "cell_type": "code",
   "execution_count": null,
   "metadata": {},
   "outputs": [],
   "source": []
  },
  {
   "cell_type": "code",
   "execution_count": null,
   "metadata": {},
   "outputs": [],
   "source": []
  },
  {
   "cell_type": "code",
   "execution_count": null,
   "metadata": {},
   "outputs": [],
   "source": []
  },
  {
   "cell_type": "code",
   "execution_count": null,
   "metadata": {},
   "outputs": [],
   "source": []
  },
  {
   "cell_type": "code",
   "execution_count": null,
   "metadata": {},
   "outputs": [],
   "source": []
  }
 ],
 "metadata": {
  "kernelspec": {
   "display_name": "DLS",
   "language": "python",
   "name": "python3"
  },
  "language_info": {
   "codemirror_mode": {
    "name": "ipython",
    "version": 3
   },
   "file_extension": ".py",
   "mimetype": "text/x-python",
   "name": "python",
   "nbconvert_exporter": "python",
   "pygments_lexer": "ipython3",
   "version": "3.11.7"
  }
 },
 "nbformat": 4,
 "nbformat_minor": 4
}
